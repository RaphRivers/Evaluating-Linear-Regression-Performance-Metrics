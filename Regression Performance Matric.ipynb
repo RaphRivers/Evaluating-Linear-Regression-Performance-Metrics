{
 "cells": [
  {
   "cell_type": "markdown",
   "id": "cf9e47b1-1d1d-4e5f-ac17-6d27221dcc19",
   "metadata": {},
   "source": [
    "## Linear Regression Performance Metrics"
   ]
  },
  {
   "cell_type": "code",
   "execution_count": 1,
   "id": "2c0f6305-2ea6-46c6-86da-dc06ce237feb",
   "metadata": {},
   "outputs": [],
   "source": [
    "import numpy as np\n",
    "import pandas as pd\n",
    "import matplotlib.pyplot as plt\n",
    "import seaborn as sns\n",
    "import statsmodels.formula.api as smf"
   ]
  },
  {
   "cell_type": "markdown",
   "id": "a03a0756-8e17-4053-bae6-11bf0b00a920",
   "metadata": {},
   "source": [
    "## Read in data"
   ]
  },
  {
   "cell_type": "code",
   "execution_count": 2,
   "id": "fb8b3ad5-22b6-40cb-a409-533dc94abf51",
   "metadata": {},
   "outputs": [
    {
     "data": {
      "text/html": [
       "<div>\n",
       "<style scoped>\n",
       "    .dataframe tbody tr th:only-of-type {\n",
       "        vertical-align: middle;\n",
       "    }\n",
       "\n",
       "    .dataframe tbody tr th {\n",
       "        vertical-align: top;\n",
       "    }\n",
       "\n",
       "    .dataframe thead th {\n",
       "        text-align: right;\n",
       "    }\n",
       "</style>\n",
       "<table border=\"1\" class=\"dataframe\">\n",
       "  <thead>\n",
       "    <tr style=\"text-align: right;\">\n",
       "      <th></th>\n",
       "      <th>x</th>\n",
       "      <th>trend</th>\n",
       "      <th>y</th>\n",
       "      <th>true_intercept</th>\n",
       "      <th>true_slope</th>\n",
       "      <th>true_sigma</th>\n",
       "    </tr>\n",
       "  </thead>\n",
       "  <tbody>\n",
       "    <tr>\n",
       "      <th>0</th>\n",
       "      <td>-3.00</td>\n",
       "      <td>4.750</td>\n",
       "      <td>6.030315</td>\n",
       "      <td>0.25</td>\n",
       "      <td>-1.5</td>\n",
       "      <td>1.25</td>\n",
       "    </tr>\n",
       "    <tr>\n",
       "      <th>1</th>\n",
       "      <td>-2.25</td>\n",
       "      <td>3.625</td>\n",
       "      <td>1.457911</td>\n",
       "      <td>0.25</td>\n",
       "      <td>-1.5</td>\n",
       "      <td>1.25</td>\n",
       "    </tr>\n",
       "    <tr>\n",
       "      <th>2</th>\n",
       "      <td>-1.50</td>\n",
       "      <td>2.500</td>\n",
       "      <td>2.388383</td>\n",
       "      <td>0.25</td>\n",
       "      <td>-1.5</td>\n",
       "      <td>1.25</td>\n",
       "    </tr>\n",
       "    <tr>\n",
       "      <th>3</th>\n",
       "      <td>-0.75</td>\n",
       "      <td>1.375</td>\n",
       "      <td>0.007815</td>\n",
       "      <td>0.25</td>\n",
       "      <td>-1.5</td>\n",
       "      <td>1.25</td>\n",
       "    </tr>\n",
       "    <tr>\n",
       "      <th>4</th>\n",
       "      <td>0.00</td>\n",
       "      <td>0.250</td>\n",
       "      <td>0.651244</td>\n",
       "      <td>0.25</td>\n",
       "      <td>-1.5</td>\n",
       "      <td>1.25</td>\n",
       "    </tr>\n",
       "    <tr>\n",
       "      <th>5</th>\n",
       "      <td>0.75</td>\n",
       "      <td>-0.875</td>\n",
       "      <td>-2.254007</td>\n",
       "      <td>0.25</td>\n",
       "      <td>-1.5</td>\n",
       "      <td>1.25</td>\n",
       "    </tr>\n",
       "    <tr>\n",
       "      <th>6</th>\n",
       "      <td>1.50</td>\n",
       "      <td>-2.000</td>\n",
       "      <td>-2.969992</td>\n",
       "      <td>0.25</td>\n",
       "      <td>-1.5</td>\n",
       "      <td>1.25</td>\n",
       "    </tr>\n",
       "    <tr>\n",
       "      <th>7</th>\n",
       "      <td>2.25</td>\n",
       "      <td>-3.125</td>\n",
       "      <td>-3.537097</td>\n",
       "      <td>0.25</td>\n",
       "      <td>-1.5</td>\n",
       "      <td>1.25</td>\n",
       "    </tr>\n",
       "    <tr>\n",
       "      <th>8</th>\n",
       "      <td>3.00</td>\n",
       "      <td>-4.250</td>\n",
       "      <td>-6.063282</td>\n",
       "      <td>0.25</td>\n",
       "      <td>-1.5</td>\n",
       "      <td>1.25</td>\n",
       "    </tr>\n",
       "  </tbody>\n",
       "</table>\n",
       "</div>"
      ],
      "text/plain": [
       "      x  trend         y  true_intercept  true_slope  true_sigma\n",
       "0 -3.00  4.750  6.030315            0.25        -1.5        1.25\n",
       "1 -2.25  3.625  1.457911            0.25        -1.5        1.25\n",
       "2 -1.50  2.500  2.388383            0.25        -1.5        1.25\n",
       "3 -0.75  1.375  0.007815            0.25        -1.5        1.25\n",
       "4  0.00  0.250  0.651244            0.25        -1.5        1.25\n",
       "5  0.75 -0.875 -2.254007            0.25        -1.5        1.25\n",
       "6  1.50 -2.000 -2.969992            0.25        -1.5        1.25\n",
       "7  2.25 -3.125 -3.537097            0.25        -1.5        1.25\n",
       "8  3.00 -4.250 -6.063282            0.25        -1.5        1.25"
      ]
     },
     "execution_count": 2,
     "metadata": {},
     "output_type": "execute_result"
    }
   ],
   "source": [
    "# Read in data \n",
    "df = pd.read_csv('week_10_linear_data.csv')\n",
    "df"
   ]
  },
  {
   "cell_type": "markdown",
   "id": "2a96f4f3-5507-48f7-869d-08edd25e523f",
   "metadata": {},
   "source": [
    "## Fit the linear model\n",
    "Before we can measure performance we must fit the linear model"
   ]
  },
  {
   "cell_type": "code",
   "execution_count": 3,
   "id": "9ca154eb-f76f-45a0-9c46-0974e2d96a0d",
   "metadata": {},
   "outputs": [],
   "source": [
    "# Fit linear model using the formula\n",
    "lm_fit = smf.ols(formula='y ~ x', data=df).fit()"
   ]
  },
  {
   "cell_type": "code",
   "execution_count": 4,
   "id": "bfd1a32c-ae6e-4b09-8b37-fc51cdc3be3c",
   "metadata": {},
   "outputs": [
    {
     "data": {
      "text/plain": [
       "Intercept   -0.476523\n",
       "x           -1.696400\n",
       "dtype: float64"
      ]
     },
     "execution_count": 4,
     "metadata": {},
     "output_type": "execute_result"
    }
   ],
   "source": [
    "# Check the fitted model estimates\n",
    "lm_fit.params"
   ]
  },
  {
   "cell_type": "code",
   "execution_count": 5,
   "id": "6a09cfce-3d29-4e49-a118-e926456214ab",
   "metadata": {},
   "outputs": [
    {
     "data": {
      "text/plain": [
       "Intercept    0.370031\n",
       "x            0.191083\n",
       "dtype: float64"
      ]
     },
     "execution_count": 5,
     "metadata": {},
     "output_type": "execute_result"
    }
   ],
   "source": [
    "# Preview the standard error\n",
    "lm_fit.bse"
   ]
  },
  {
   "cell_type": "code",
   "execution_count": 6,
   "id": "d3ee8c55-1288-4405-8520-b9deb6d33c00",
   "metadata": {},
   "outputs": [
    {
     "data": {
      "text/plain": [
       "Intercept    0.238754\n",
       "x            0.000047\n",
       "dtype: float64"
      ]
     },
     "execution_count": 6,
     "metadata": {},
     "output_type": "execute_result"
    }
   ],
   "source": [
    "# Preview the cofficient p-values\n",
    "lm_fit.pvalues"
   ]
  },
  {
   "cell_type": "code",
   "execution_count": 7,
   "id": "0ae09a5a-ee21-4b53-b451-af5960bdacc5",
   "metadata": {},
   "outputs": [
    {
     "data": {
      "text/html": [
       "<div>\n",
       "<style scoped>\n",
       "    .dataframe tbody tr th:only-of-type {\n",
       "        vertical-align: middle;\n",
       "    }\n",
       "\n",
       "    .dataframe tbody tr th {\n",
       "        vertical-align: top;\n",
       "    }\n",
       "\n",
       "    .dataframe thead th {\n",
       "        text-align: right;\n",
       "    }\n",
       "</style>\n",
       "<table border=\"1\" class=\"dataframe\">\n",
       "  <thead>\n",
       "    <tr style=\"text-align: right;\">\n",
       "      <th></th>\n",
       "      <th>0</th>\n",
       "      <th>1</th>\n",
       "    </tr>\n",
       "  </thead>\n",
       "  <tbody>\n",
       "    <tr>\n",
       "      <th>Intercept</th>\n",
       "      <td>-1.351507</td>\n",
       "      <td>0.39846</td>\n",
       "    </tr>\n",
       "    <tr>\n",
       "      <th>x</th>\n",
       "      <td>-2.148239</td>\n",
       "      <td>-1.24456</td>\n",
       "    </tr>\n",
       "  </tbody>\n",
       "</table>\n",
       "</div>"
      ],
      "text/plain": [
       "                  0        1\n",
       "Intercept -1.351507  0.39846\n",
       "x         -2.148239 -1.24456"
      ]
     },
     "execution_count": 7,
     "metadata": {},
     "output_type": "execute_result"
    }
   ],
   "source": [
    "# Preview coefficient confidence intervals and rename the columns\n",
    "lm_fit.conf_int()"
   ]
  },
  {
   "cell_type": "code",
   "execution_count": 8,
   "id": "6ed5c08c-610e-4fd6-b351-b31a1c61cae5",
   "metadata": {},
   "outputs": [
    {
     "data": {
      "text/html": [
       "<div>\n",
       "<style scoped>\n",
       "    .dataframe tbody tr th:only-of-type {\n",
       "        vertical-align: middle;\n",
       "    }\n",
       "\n",
       "    .dataframe tbody tr th {\n",
       "        vertical-align: top;\n",
       "    }\n",
       "\n",
       "    .dataframe thead th {\n",
       "        text-align: right;\n",
       "    }\n",
       "</style>\n",
       "<table border=\"1\" class=\"dataframe\">\n",
       "  <thead>\n",
       "    <tr style=\"text-align: right;\">\n",
       "      <th></th>\n",
       "      <th>ci_lower</th>\n",
       "      <th>ci_upper</th>\n",
       "    </tr>\n",
       "  </thead>\n",
       "  <tbody>\n",
       "    <tr>\n",
       "      <th>Intercept</th>\n",
       "      <td>-1.351507</td>\n",
       "      <td>0.39846</td>\n",
       "    </tr>\n",
       "    <tr>\n",
       "      <th>x</th>\n",
       "      <td>-2.148239</td>\n",
       "      <td>-1.24456</td>\n",
       "    </tr>\n",
       "  </tbody>\n",
       "</table>\n",
       "</div>"
      ],
      "text/plain": [
       "           ci_lower  ci_upper\n",
       "Intercept -1.351507   0.39846\n",
       "x         -2.148239  -1.24456"
      ]
     },
     "execution_count": 8,
     "metadata": {},
     "output_type": "execute_result"
    }
   ],
   "source": [
    "# Rename the CI columns\n",
    "lm_fit.conf_int().rename(columns={0:'ci_lower', 1:'ci_upper'})"
   ]
  },
  {
   "cell_type": "markdown",
   "id": "5d4dca0d-0a21-486c-8f42-501beffa5901",
   "metadata": {},
   "source": [
    "## Visualize the coefficient summaries using the coefficient plot \n",
    "Define a function for plotting the coefficient summaries for the linear model."
   ]
  },
  {
   "cell_type": "code",
   "execution_count": 9,
   "id": "ffcb3be0-3fb5-4ae4-bf41-f02e2bdee179",
   "metadata": {},
   "outputs": [],
   "source": [
    "# Define a function for plotting model coefficient summaries\n",
    "# Set editable figure size parameter\n",
    "def coefplot(model, figsize_use=(10, 6) ):\n",
    "    # Set figure and figure size\n",
    "    fig, ax = plt.subplots(figsize = figsize_use)\n",
    "\n",
    "    # Use errorbar to set the model y and x estimates and the x standard error\n",
    "    ax.errorbar(y=model.params.index, \n",
    "               x=model.params,\n",
    "               xerr = 2 * model.bse,\n",
    "               fmt='o', ms=10, color='k', ecolor='k', elinewidth=2)\n",
    "    \n",
    "    # Include statistical significance reference line\n",
    "    ax.axvline(x=0, linestyle='--', linewidth=2.5, color='grey')\n",
    "\n",
    "    # Set x axis label\n",
    "    ax.set_xlabel('coefficient value')\n",
    "\n",
    "    # Show plot\n",
    "    plt.show()"
   ]
  },
  {
   "cell_type": "markdown",
   "id": "c49ddc0b-36c7-43f4-b24d-9d8af2c98c1a",
   "metadata": {},
   "source": [
    "This function uses the approximation to the 95% confidence interval to visually show which inputs are statistically significant. This function can be used for any linear model no matter how many coefficients are estimated. "
   ]
  },
  {
   "cell_type": "code",
   "execution_count": 10,
   "id": "1b356bf6-39fa-40e1-8e29-5cd650427cfc",
   "metadata": {},
   "outputs": [
    {
     "data": {
      "image/png": "[encoded data removed]",
      "text/plain": [
       "<Figure size 1000x600 with 1 Axes>"
      ]
     },
     "metadata": {},
     "output_type": "display_data"
    }
   ],
   "source": [
    "# Call the function and pass in the fitted model\n",
    "coefplot(lm_fit)"
   ]
  },
  {
   "cell_type": "markdown",
   "id": "9039b25e-ced2-4640-b5fc-f5d12ec9d9d3",
   "metadata": {},
   "source": [
    "## Measuring the fitted model performance with graphs\n",
    "This involves measuring the model training data's performance or `Goodness of Fit`. We need this because the predictions we made on the training data above are stored with the fitted model object `lm_fit`. This is the data used to estimate the coefficients. The training set predictions for the fitted model can be retrieved using the attribute `.fittedvalues`. These training set predictions are commonly called the 'MODEL FITs' or the 'FITTED VALUES'."
   ]
  },
  {
   "cell_type": "code",
   "execution_count": 11,
   "id": "70010422-0117-4bec-a85e-9fbb6c0132e6",
   "metadata": {},
   "outputs": [
    {
     "data": {
      "text/plain": [
       "0    4.612676\n",
       "1    3.340376\n",
       "2    2.068076\n",
       "3    0.795777\n",
       "4   -0.476523\n",
       "5   -1.748823\n",
       "6   -3.021123\n",
       "7   -4.293422\n",
       "8   -5.565722\n",
       "dtype: float64"
      ]
     },
     "execution_count": 11,
     "metadata": {},
     "output_type": "execute_result"
    }
   ],
   "source": [
    "# Retrieve the fitted values of the linear model training set\n",
    "lm_fit.fittedvalues"
   ]
  },
  {
   "cell_type": "markdown",
   "id": "ef44c3fb-517e-4650-b3c2-7e343c7460a8",
   "metadata": {},
   "source": [
    "The fitted values gives us all of the predictions of the training set for the model. And we can use it to visually compare the training set predicted values with the observered output of the dataset."
   ]
  },
  {
   "cell_type": "code",
   "execution_count": 12,
   "id": "468cbacd-fb7f-4de2-9e96-53105ec34251",
   "metadata": {},
   "outputs": [
    {
     "data": {
      "text/html": [
       "<div>\n",
       "<style scoped>\n",
       "    .dataframe tbody tr th:only-of-type {\n",
       "        vertical-align: middle;\n",
       "    }\n",
       "\n",
       "    .dataframe tbody tr th {\n",
       "        vertical-align: top;\n",
       "    }\n",
       "\n",
       "    .dataframe thead th {\n",
       "        text-align: right;\n",
       "    }\n",
       "</style>\n",
       "<table border=\"1\" class=\"dataframe\">\n",
       "  <thead>\n",
       "    <tr style=\"text-align: right;\">\n",
       "      <th></th>\n",
       "      <th>x</th>\n",
       "      <th>y</th>\n",
       "    </tr>\n",
       "  </thead>\n",
       "  <tbody>\n",
       "    <tr>\n",
       "      <th>0</th>\n",
       "      <td>-3.00</td>\n",
       "      <td>6.030315</td>\n",
       "    </tr>\n",
       "    <tr>\n",
       "      <th>1</th>\n",
       "      <td>-2.25</td>\n",
       "      <td>1.457911</td>\n",
       "    </tr>\n",
       "    <tr>\n",
       "      <th>2</th>\n",
       "      <td>-1.50</td>\n",
       "      <td>2.388383</td>\n",
       "    </tr>\n",
       "    <tr>\n",
       "      <th>3</th>\n",
       "      <td>-0.75</td>\n",
       "      <td>0.007815</td>\n",
       "    </tr>\n",
       "    <tr>\n",
       "      <th>4</th>\n",
       "      <td>0.00</td>\n",
       "      <td>0.651244</td>\n",
       "    </tr>\n",
       "    <tr>\n",
       "      <th>5</th>\n",
       "      <td>0.75</td>\n",
       "      <td>-2.254007</td>\n",
       "    </tr>\n",
       "    <tr>\n",
       "      <th>6</th>\n",
       "      <td>1.50</td>\n",
       "      <td>-2.969992</td>\n",
       "    </tr>\n",
       "    <tr>\n",
       "      <th>7</th>\n",
       "      <td>2.25</td>\n",
       "      <td>-3.537097</td>\n",
       "    </tr>\n",
       "    <tr>\n",
       "      <th>8</th>\n",
       "      <td>3.00</td>\n",
       "      <td>-6.063282</td>\n",
       "    </tr>\n",
       "  </tbody>\n",
       "</table>\n",
       "</div>"
      ],
      "text/plain": [
       "      x         y\n",
       "0 -3.00  6.030315\n",
       "1 -2.25  1.457911\n",
       "2 -1.50  2.388383\n",
       "3 -0.75  0.007815\n",
       "4  0.00  0.651244\n",
       "5  0.75 -2.254007\n",
       "6  1.50 -2.969992\n",
       "7  2.25 -3.537097\n",
       "8  3.00 -6.063282"
      ]
     },
     "execution_count": 12,
     "metadata": {},
     "output_type": "execute_result"
    }
   ],
   "source": [
    "# Make a copy of the data frame and select only the input and output columns\n",
    "df_copy = df.loc[:, ['x', 'y']].copy()\n",
    "df_copy"
   ]
  },
  {
   "cell_type": "code",
   "execution_count": 13,
   "id": "dda83c74-ee6a-4243-897a-f2f769763703",
   "metadata": {},
   "outputs": [
    {
     "data": {
      "text/html": [
       "<div>\n",
       "<style scoped>\n",
       "    .dataframe tbody tr th:only-of-type {\n",
       "        vertical-align: middle;\n",
       "    }\n",
       "\n",
       "    .dataframe tbody tr th {\n",
       "        vertical-align: top;\n",
       "    }\n",
       "\n",
       "    .dataframe thead th {\n",
       "        text-align: right;\n",
       "    }\n",
       "</style>\n",
       "<table border=\"1\" class=\"dataframe\">\n",
       "  <thead>\n",
       "    <tr style=\"text-align: right;\">\n",
       "      <th></th>\n",
       "      <th>x</th>\n",
       "      <th>y</th>\n",
       "      <th>fitted</th>\n",
       "    </tr>\n",
       "  </thead>\n",
       "  <tbody>\n",
       "    <tr>\n",
       "      <th>0</th>\n",
       "      <td>-3.00</td>\n",
       "      <td>6.030315</td>\n",
       "      <td>4.612676</td>\n",
       "    </tr>\n",
       "    <tr>\n",
       "      <th>1</th>\n",
       "      <td>-2.25</td>\n",
       "      <td>1.457911</td>\n",
       "      <td>3.340376</td>\n",
       "    </tr>\n",
       "    <tr>\n",
       "      <th>2</th>\n",
       "      <td>-1.50</td>\n",
       "      <td>2.388383</td>\n",
       "      <td>2.068076</td>\n",
       "    </tr>\n",
       "    <tr>\n",
       "      <th>3</th>\n",
       "      <td>-0.75</td>\n",
       "      <td>0.007815</td>\n",
       "      <td>0.795777</td>\n",
       "    </tr>\n",
       "    <tr>\n",
       "      <th>4</th>\n",
       "      <td>0.00</td>\n",
       "      <td>0.651244</td>\n",
       "      <td>-0.476523</td>\n",
       "    </tr>\n",
       "    <tr>\n",
       "      <th>5</th>\n",
       "      <td>0.75</td>\n",
       "      <td>-2.254007</td>\n",
       "      <td>-1.748823</td>\n",
       "    </tr>\n",
       "    <tr>\n",
       "      <th>6</th>\n",
       "      <td>1.50</td>\n",
       "      <td>-2.969992</td>\n",
       "      <td>-3.021123</td>\n",
       "    </tr>\n",
       "    <tr>\n",
       "      <th>7</th>\n",
       "      <td>2.25</td>\n",
       "      <td>-3.537097</td>\n",
       "      <td>-4.293422</td>\n",
       "    </tr>\n",
       "    <tr>\n",
       "      <th>8</th>\n",
       "      <td>3.00</td>\n",
       "      <td>-6.063282</td>\n",
       "      <td>-5.565722</td>\n",
       "    </tr>\n",
       "  </tbody>\n",
       "</table>\n",
       "</div>"
      ],
      "text/plain": [
       "      x         y    fitted\n",
       "0 -3.00  6.030315  4.612676\n",
       "1 -2.25  1.457911  3.340376\n",
       "2 -1.50  2.388383  2.068076\n",
       "3 -0.75  0.007815  0.795777\n",
       "4  0.00  0.651244 -0.476523\n",
       "5  0.75 -2.254007 -1.748823\n",
       "6  1.50 -2.969992 -3.021123\n",
       "7  2.25 -3.537097 -4.293422\n",
       "8  3.00 -6.063282 -5.565722"
      ]
     },
     "execution_count": 13,
     "metadata": {},
     "output_type": "execute_result"
    }
   ],
   "source": [
    "# Add a column for the predicted (fitted values) of the training data set\n",
    "df_copy['fitted'] = lm_fit.fittedvalues # Predictions of the model on the training set\n",
    "df_copy"
   ]
  },
  {
   "cell_type": "markdown",
   "id": "1f85ae88-4bed-42b8-95d8-cb17821a0186",
   "metadata": {},
   "source": [
    "## Visualize the relationship between the input and the predicted output"
   ]
  },
  {
   "cell_type": "code",
   "execution_count": 14,
   "id": "0e5cea55-ebff-47ec-bef5-27803c2f860d",
   "metadata": {},
   "outputs": [
    {
     "data": {
      "image/png": "[encoded data removed]",
      "text/plain": [
       "<Figure size 500x500 with 1 Axes>"
      ]
     },
     "metadata": {},
     "output_type": "display_data"
    }
   ],
   "source": [
    "sns.relplot(x = 'x', y='fitted', data = df_copy)\n",
    "plt.show()"
   ]
  },
  {
   "cell_type": "markdown",
   "id": "dfcfbb5f-1b84-483a-a56c-b84beb9d099e",
   "metadata": {},
   "source": [
    "The strainght dotted show that we have a relationship between the trend and the input values. To compare the observed output of the dataframe with the predicted output (model fits). We can overlay the observed output vs the input with the predicted trend (fitted values) with the input using seaborn scatterplot."
   ]
  },
  {
   "cell_type": "code",
   "execution_count": 15,
   "id": "aff78944-322b-4289-b0f6-dfa086e7f6af",
   "metadata": {},
   "outputs": [
    {
     "data": {
      "image/png": "[encoded data removed]",
      "text/plain": [
       "<Figure size 640x480 with 1 Axes>"
      ]
     },
     "metadata": {},
     "output_type": "display_data"
    }
   ],
   "source": [
    "fig, ax = plt.subplots()\n",
    "\n",
    "# fitted predictions output\n",
    "sns.scatterplot(data = df_copy, x='x', y='fitted', ax=ax)\n",
    "\n",
    "# observed output\n",
    "sns.scatterplot(data= df_copy, x='x', y='y', ax=ax)\n",
    "\n",
    "plt.show()"
   ]
  },
  {
   "cell_type": "markdown",
   "id": "a493b047-3df4-45ce-a887-4ad891464dce",
   "metadata": {},
   "source": [
    "THe above plot will easily become meaningless with a large data set. Instead, it is advised to use a scatter plot that directly relates the observed output and the fitted output values using the `Predicted vs Observed` figure plot. Where the x-axis is the observed output `y`, and the y-axis is the `fitted` output values."
   ]
  },
  {
   "cell_type": "code",
   "execution_count": 16,
   "id": "4064c4b7-8bff-4b8e-87ff-7e7581f0369b",
   "metadata": {},
   "outputs": [],
   "source": [
    "sns.set_style('whitegrid')"
   ]
  },
  {
   "cell_type": "code",
   "execution_count": 17,
   "id": "22a53df9-d0c2-43fb-93f3-2932048163e9",
   "metadata": {},
   "outputs": [
    {
     "data": {
      "image/png": "[encoded data removed]",
      "text/plain": [
       "<Figure size 640x480 with 1 Axes>"
      ]
     },
     "metadata": {},
     "output_type": "display_data"
    }
   ],
   "source": [
    "# Plot the relationship between observed vs fitted values with axis level plot\n",
    "# Add a 45-degree reference line\n",
    "\n",
    "fig, ax = plt.subplots()\n",
    "\n",
    "# observed vs predited relationship\n",
    "sns.scatterplot(data = df_copy, x='y', y='fitted', s=120, ax=ax)\n",
    "\n",
    "# 45-degree reference line of the observed output\n",
    "sns.lineplot(data = df_copy, x='y', y='y', color='red', ax=ax )\n",
    "\n",
    "# show plot\n",
    "plt.show()"
   ]
  },
  {
   "cell_type": "markdown",
   "id": "7bb71e98-8b38-4e76-a01b-dde63fc77049",
   "metadata": {},
   "source": [
    "Here we can see that when the observed output (red line) is 0 the fitted (predicted output) is 0. This means that if the predicted output is equal to 0 the fitted values will be located along the observed output line. So the closer the fitted values (blue dots) are to the red line, the better the model represents the training data. This means the smaller the error between the blue dot and the red line the better the model is. Not this is not measuring the input rather it is only measuring if the prediction is consistent with the output.\n",
    "\n",
    "This means that the predicted vs observed metrics visualization can be created whether you have 1,2,3,4,....10,000 inputs. "
   ]
  },
  {
   "cell_type": "markdown",
   "id": "1e18a626-6058-4205-8500-da5ea3353271",
   "metadata": {},
   "source": [
    "## Measuring quantitative metric for the correlation btw model prediction and observed output\n",
    "This can be quantified by calculating the correlation coefficient between the model fits and the observed output. You can easily do this be selecting the observed output and the fitted output and apply the `.corr()` method. Let's see how to do this..."
   ]
  },
  {
   "cell_type": "code",
   "execution_count": 18,
   "id": "c91f9592-2fbc-49b2-9221-dda47dd3599a",
   "metadata": {},
   "outputs": [
    {
     "data": {
      "text/html": [
       "<div>\n",
       "<style scoped>\n",
       "    .dataframe tbody tr th:only-of-type {\n",
       "        vertical-align: middle;\n",
       "    }\n",
       "\n",
       "    .dataframe tbody tr th {\n",
       "        vertical-align: top;\n",
       "    }\n",
       "\n",
       "    .dataframe thead th {\n",
       "        text-align: right;\n",
       "    }\n",
       "</style>\n",
       "<table border=\"1\" class=\"dataframe\">\n",
       "  <thead>\n",
       "    <tr style=\"text-align: right;\">\n",
       "      <th></th>\n",
       "      <th>y</th>\n",
       "      <th>fitted</th>\n",
       "    </tr>\n",
       "  </thead>\n",
       "  <tbody>\n",
       "    <tr>\n",
       "      <th>y</th>\n",
       "      <td>1.000000</td>\n",
       "      <td>0.958347</td>\n",
       "    </tr>\n",
       "    <tr>\n",
       "      <th>fitted</th>\n",
       "      <td>0.958347</td>\n",
       "      <td>1.000000</td>\n",
       "    </tr>\n",
       "  </tbody>\n",
       "</table>\n",
       "</div>"
      ],
      "text/plain": [
       "               y    fitted\n",
       "y       1.000000  0.958347\n",
       "fitted  0.958347  1.000000"
      ]
     },
     "execution_count": 18,
     "metadata": {},
     "output_type": "execute_result"
    }
   ],
   "source": [
    "# Apply corr method to fitted and observed outputs\n",
    "df_copy.loc[:, ['y', 'fitted']].corr(numeric_only=True) # Use numeric only to pull exact values only if you are not working with continous values"
   ]
  },
  {
   "cell_type": "code",
   "execution_count": 19,
   "id": "d46588b2-7aa9-4624-83cd-a3df6133bf1d",
   "metadata": {},
   "outputs": [
    {
     "data": {
      "text/plain": [
       "0.9583473874664296"
      ]
     },
     "execution_count": 19,
     "metadata": {},
     "output_type": "execute_result"
    }
   ],
   "source": [
    "# Retrieve the correlation coefficient btw the observed and fitted values for row 0 column 1 (the fitted value)\n",
    "corr_eff = df_copy.loc[:,['y', 'fitted']].corr().iloc[0, 1]\n",
    "corr_eff"
   ]
  },
  {
   "cell_type": "markdown",
   "id": "f9b18b70-c5a1-4d21-8fd3-6c96d4cbf9b7",
   "metadata": {},
   "source": [
    "Note! the correlation coefficient can be either -vs of +ve. So let's square the correlation coefficient."
   ]
  },
  {
   "cell_type": "code",
   "execution_count": 20,
   "id": "daeab0b9-2e80-40fd-95da-e033714a8640",
   "metadata": {},
   "outputs": [],
   "source": [
    "# calculate the r-square of the correlation coefficient of the fitted model\n",
    "r_square = corr_eff ** 2"
   ]
  },
  {
   "cell_type": "markdown",
   "id": "13f0383f-fd69-46ee-bc8c-d483b4ec5c31",
   "metadata": {},
   "source": [
    "The R-square is a very important statistical value of the model because it tells you if the observed value increases with the predicted value of the model. It can also be automatically calculated using the `.rsquared` attribute."
   ]
  },
  {
   "cell_type": "code",
   "execution_count": 21,
   "id": "d8f30016-ac53-4b37-8b3d-91e342c40a3d",
   "metadata": {},
   "outputs": [
    {
     "data": {
      "text/plain": [
       "0.918429715063731"
      ]
     },
     "execution_count": 21,
     "metadata": {},
     "output_type": "execute_result"
    }
   ],
   "source": [
    "# Calculate the R-squres of the fitted model\n",
    "lm_fit.rsquared"
   ]
  },
  {
   "cell_type": "markdown",
   "id": "9e8baf07-bfae-4a1f-8a66-fd2fa77f5c1a",
   "metadata": {},
   "source": [
    "Why does this matter? This is an important predicitoon metric:\n",
    "\n",
    "If there is `a general linear relationship` showing that the observed output is generally increasing as the predicted value is increasing - The R-Square will be `high`\n",
    "\n",
    "If there is a `lack of a general linear relationship` between the observed output and the predicted output - The R-Square will be `low`\n",
    "\n",
    "Ideally, a good R-Square is equal to 1. A bad R-Square is equal to 0 not good. Although you can have a negative R-Square.\n",
    "\n",
    "Overall the better your predicted model is linearly related to the observed the better the R-Square will be vice versa. "
   ]
  },
  {
   "cell_type": "markdown",
   "id": "3e479de7-fda2-45da-bc0a-bcb5bbe4fe0d",
   "metadata": {},
   "source": [
    "## Measuring Errors (Residuals)\n",
    "Errors are meant to represent unexplained variability. It is everything that the model cannot capture. It is the difference between the observed output and the predicted trend or fitted values. Let's make a column for these differences and visualize them."
   ]
  },
  {
   "cell_type": "code",
   "execution_count": 22,
   "id": "7b024ea3-efa5-4c3d-9951-bfefb0800208",
   "metadata": {},
   "outputs": [
    {
     "data": {
      "text/html": [
       "<div>\n",
       "<style scoped>\n",
       "    .dataframe tbody tr th:only-of-type {\n",
       "        vertical-align: middle;\n",
       "    }\n",
       "\n",
       "    .dataframe tbody tr th {\n",
       "        vertical-align: top;\n",
       "    }\n",
       "\n",
       "    .dataframe thead th {\n",
       "        text-align: right;\n",
       "    }\n",
       "</style>\n",
       "<table border=\"1\" class=\"dataframe\">\n",
       "  <thead>\n",
       "    <tr style=\"text-align: right;\">\n",
       "      <th></th>\n",
       "      <th>x</th>\n",
       "      <th>y</th>\n",
       "      <th>fitted</th>\n",
       "      <th>errors</th>\n",
       "    </tr>\n",
       "  </thead>\n",
       "  <tbody>\n",
       "    <tr>\n",
       "      <th>0</th>\n",
       "      <td>-3.00</td>\n",
       "      <td>6.030315</td>\n",
       "      <td>4.612676</td>\n",
       "      <td>1.417639</td>\n",
       "    </tr>\n",
       "    <tr>\n",
       "      <th>1</th>\n",
       "      <td>-2.25</td>\n",
       "      <td>1.457911</td>\n",
       "      <td>3.340376</td>\n",
       "      <td>-1.882465</td>\n",
       "    </tr>\n",
       "    <tr>\n",
       "      <th>2</th>\n",
       "      <td>-1.50</td>\n",
       "      <td>2.388383</td>\n",
       "      <td>2.068076</td>\n",
       "      <td>0.320307</td>\n",
       "    </tr>\n",
       "    <tr>\n",
       "      <th>3</th>\n",
       "      <td>-0.75</td>\n",
       "      <td>0.007815</td>\n",
       "      <td>0.795777</td>\n",
       "      <td>-0.787961</td>\n",
       "    </tr>\n",
       "    <tr>\n",
       "      <th>4</th>\n",
       "      <td>0.00</td>\n",
       "      <td>0.651244</td>\n",
       "      <td>-0.476523</td>\n",
       "      <td>1.127767</td>\n",
       "    </tr>\n",
       "    <tr>\n",
       "      <th>5</th>\n",
       "      <td>0.75</td>\n",
       "      <td>-2.254007</td>\n",
       "      <td>-1.748823</td>\n",
       "      <td>-0.505184</td>\n",
       "    </tr>\n",
       "    <tr>\n",
       "      <th>6</th>\n",
       "      <td>1.50</td>\n",
       "      <td>-2.969992</td>\n",
       "      <td>-3.021123</td>\n",
       "      <td>0.051131</td>\n",
       "    </tr>\n",
       "    <tr>\n",
       "      <th>7</th>\n",
       "      <td>2.25</td>\n",
       "      <td>-3.537097</td>\n",
       "      <td>-4.293422</td>\n",
       "      <td>0.756326</td>\n",
       "    </tr>\n",
       "    <tr>\n",
       "      <th>8</th>\n",
       "      <td>3.00</td>\n",
       "      <td>-6.063282</td>\n",
       "      <td>-5.565722</td>\n",
       "      <td>-0.497560</td>\n",
       "    </tr>\n",
       "  </tbody>\n",
       "</table>\n",
       "</div>"
      ],
      "text/plain": [
       "      x         y    fitted    errors\n",
       "0 -3.00  6.030315  4.612676  1.417639\n",
       "1 -2.25  1.457911  3.340376 -1.882465\n",
       "2 -1.50  2.388383  2.068076  0.320307\n",
       "3 -0.75  0.007815  0.795777 -0.787961\n",
       "4  0.00  0.651244 -0.476523  1.127767\n",
       "5  0.75 -2.254007 -1.748823 -0.505184\n",
       "6  1.50 -2.969992 -3.021123  0.051131\n",
       "7  2.25 -3.537097 -4.293422  0.756326\n",
       "8  3.00 -6.063282 -5.565722 -0.497560"
      ]
     },
     "execution_count": 22,
     "metadata": {},
     "output_type": "execute_result"
    }
   ],
   "source": [
    "# Calculate the error and assign to a new column\n",
    "df_copy['errors'] = df_copy.y - df_copy.fitted\n",
    "df_copy"
   ]
  },
  {
   "cell_type": "code",
   "execution_count": 23,
   "id": "30297f59-978a-41d1-9c77-4f1fda492bf9",
   "metadata": {},
   "outputs": [
    {
     "data": {
      "image/png": "[encoded data removed]",
      "text/plain": [
       "<Figure size 500x500 with 1 Axes>"
      ]
     },
     "metadata": {},
     "output_type": "display_data"
    }
   ],
   "source": [
    "# Visualise the error given the input\n",
    "sns.relplot(data=df_copy, x='x', y='errors')\n",
    "plt.show()"
   ]
  },
  {
   "cell_type": "markdown",
   "id": "a5018755-340c-421f-ac76-7dab495faa33",
   "metadata": {},
   "source": [
    "If the error plot was a very clear trend whether it is negative or positive or some other non linear trend, that will tell you that there is some feature that you should derive from your input to better capture the output-to-input relationship. Also the distribution of the error should be gassian in shape. If we had enough data I would plot the histogram to show the error distribution."
   ]
  },
  {
   "cell_type": "markdown",
   "id": "3adc33d0-d2e3-44ea-aa20-1ed1546ed5b7",
   "metadata": {},
   "source": [
    "You can also use statsmodels object `.resid` attribute to compute the errors or residuals of the fitted model"
   ]
  },
  {
   "cell_type": "code",
   "execution_count": 24,
   "id": "5f261001-150c-4f9c-af2e-49af1685784c",
   "metadata": {},
   "outputs": [
    {
     "data": {
      "text/plain": [
       "0    1.417639\n",
       "1   -1.882465\n",
       "2    0.320307\n",
       "3   -0.787961\n",
       "4    1.127767\n",
       "5   -0.505184\n",
       "6    0.051131\n",
       "7    0.756326\n",
       "8   -0.497560\n",
       "dtype: float64"
      ]
     },
     "execution_count": 24,
     "metadata": {},
     "output_type": "execute_result"
    }
   ],
   "source": [
    "# compute error (residuals) using statsmodels\n",
    "lm_fit.resid"
   ]
  },
  {
   "cell_type": "code",
   "execution_count": 25,
   "id": "459e9f02-88fd-447b-a2f3-3bdd18b7c5b9",
   "metadata": {},
   "outputs": [
    {
     "data": {
      "text/html": [
       "<div>\n",
       "<style scoped>\n",
       "    .dataframe tbody tr th:only-of-type {\n",
       "        vertical-align: middle;\n",
       "    }\n",
       "\n",
       "    .dataframe tbody tr th {\n",
       "        vertical-align: top;\n",
       "    }\n",
       "\n",
       "    .dataframe thead th {\n",
       "        text-align: right;\n",
       "    }\n",
       "</style>\n",
       "<table border=\"1\" class=\"dataframe\">\n",
       "  <thead>\n",
       "    <tr style=\"text-align: right;\">\n",
       "      <th></th>\n",
       "      <th>x</th>\n",
       "      <th>y</th>\n",
       "      <th>fitted</th>\n",
       "      <th>errors</th>\n",
       "      <th>residuals</th>\n",
       "    </tr>\n",
       "  </thead>\n",
       "  <tbody>\n",
       "    <tr>\n",
       "      <th>0</th>\n",
       "      <td>-3.00</td>\n",
       "      <td>6.030315</td>\n",
       "      <td>4.612676</td>\n",
       "      <td>1.417639</td>\n",
       "      <td>1.417639</td>\n",
       "    </tr>\n",
       "    <tr>\n",
       "      <th>1</th>\n",
       "      <td>-2.25</td>\n",
       "      <td>1.457911</td>\n",
       "      <td>3.340376</td>\n",
       "      <td>-1.882465</td>\n",
       "      <td>-1.882465</td>\n",
       "    </tr>\n",
       "    <tr>\n",
       "      <th>2</th>\n",
       "      <td>-1.50</td>\n",
       "      <td>2.388383</td>\n",
       "      <td>2.068076</td>\n",
       "      <td>0.320307</td>\n",
       "      <td>0.320307</td>\n",
       "    </tr>\n",
       "    <tr>\n",
       "      <th>3</th>\n",
       "      <td>-0.75</td>\n",
       "      <td>0.007815</td>\n",
       "      <td>0.795777</td>\n",
       "      <td>-0.787961</td>\n",
       "      <td>-0.787961</td>\n",
       "    </tr>\n",
       "    <tr>\n",
       "      <th>4</th>\n",
       "      <td>0.00</td>\n",
       "      <td>0.651244</td>\n",
       "      <td>-0.476523</td>\n",
       "      <td>1.127767</td>\n",
       "      <td>1.127767</td>\n",
       "    </tr>\n",
       "    <tr>\n",
       "      <th>5</th>\n",
       "      <td>0.75</td>\n",
       "      <td>-2.254007</td>\n",
       "      <td>-1.748823</td>\n",
       "      <td>-0.505184</td>\n",
       "      <td>-0.505184</td>\n",
       "    </tr>\n",
       "    <tr>\n",
       "      <th>6</th>\n",
       "      <td>1.50</td>\n",
       "      <td>-2.969992</td>\n",
       "      <td>-3.021123</td>\n",
       "      <td>0.051131</td>\n",
       "      <td>0.051131</td>\n",
       "    </tr>\n",
       "    <tr>\n",
       "      <th>7</th>\n",
       "      <td>2.25</td>\n",
       "      <td>-3.537097</td>\n",
       "      <td>-4.293422</td>\n",
       "      <td>0.756326</td>\n",
       "      <td>0.756326</td>\n",
       "    </tr>\n",
       "    <tr>\n",
       "      <th>8</th>\n",
       "      <td>3.00</td>\n",
       "      <td>-6.063282</td>\n",
       "      <td>-5.565722</td>\n",
       "      <td>-0.497560</td>\n",
       "      <td>-0.497560</td>\n",
       "    </tr>\n",
       "  </tbody>\n",
       "</table>\n",
       "</div>"
      ],
      "text/plain": [
       "      x         y    fitted    errors  residuals\n",
       "0 -3.00  6.030315  4.612676  1.417639   1.417639\n",
       "1 -2.25  1.457911  3.340376 -1.882465  -1.882465\n",
       "2 -1.50  2.388383  2.068076  0.320307   0.320307\n",
       "3 -0.75  0.007815  0.795777 -0.787961  -0.787961\n",
       "4  0.00  0.651244 -0.476523  1.127767   1.127767\n",
       "5  0.75 -2.254007 -1.748823 -0.505184  -0.505184\n",
       "6  1.50 -2.969992 -3.021123  0.051131   0.051131\n",
       "7  2.25 -3.537097 -4.293422  0.756326   0.756326\n",
       "8  3.00 -6.063282 -5.565722 -0.497560  -0.497560"
      ]
     },
     "execution_count": 25,
     "metadata": {},
     "output_type": "execute_result"
    }
   ],
   "source": [
    "# assign residuals to a new column and compare\n",
    "df_copy['residuals'] = lm_fit.resid\n",
    "df_copy"
   ]
  },
  {
   "cell_type": "markdown",
   "id": "dc849f12-9913-4873-8c45-afb3938e0742",
   "metadata": {},
   "source": [
    "You can see that the error column we calculated is the same as using the `.resid` attribute. The errors can be calculated for every data point hence it is nice to summarize the errors across all the data points by squaring the errors. "
   ]
  },
  {
   "cell_type": "code",
   "execution_count": 26,
   "id": "e7cf7b5a-1c94-46f1-aba4-48688549a1d0",
   "metadata": {},
   "outputs": [
    {
     "data": {
      "text/plain": [
       "0    2.009701\n",
       "1    3.543673\n",
       "2    0.102596\n",
       "3    0.620883\n",
       "4    1.271859\n",
       "5    0.255211\n",
       "6    0.002614\n",
       "7    0.572029\n",
       "8    0.247566\n",
       "dtype: float64"
      ]
     },
     "execution_count": 26,
     "metadata": {},
     "output_type": "execute_result"
    }
   ],
   "source": [
    "# Square the error values accross the model\n",
    "lm_fit.resid ** 2"
   ]
  },
  {
   "cell_type": "code",
   "execution_count": 27,
   "id": "ae66fe13-e812-46da-9ec5-c1c53146d576",
   "metadata": {},
   "outputs": [
    {
     "data": {
      "text/plain": [
       "8.626133173634287"
      ]
     },
     "execution_count": 27,
     "metadata": {},
     "output_type": "execute_result"
    }
   ],
   "source": [
    "# Summarize squared errors\n",
    "(lm_fit.resid **2).sum()"
   ]
  },
  {
   "cell_type": "markdown",
   "id": "91b0bf42-e9ba-4646-b51e-be27c6e803a4",
   "metadata": {},
   "source": [
    "Why should we do this? \n",
    "\n",
    "Because some of the errors in the model will more likely contain negative values. It is important to summarize (square) them so there are only positive squared value. \n",
    "\n",
    "- The smaller (closer) the squared error is to 0, the closer is the prediction or model fit is to the observed output.\n",
    "- The larger (further) the squared error is to 0, the worse the prediction is from the observed output.\n",
    "\n",
    "Because we have so many squared error data points hence we summarize the squared errors. That is summing the squared error. Which is also known as `**SSE**`.\n",
    "But the SSE increases as the number of data point increases... For this reason, we average the squared errors. This is known as **MEANS SQUARED ERROR**`**MSE**`. You can do this by taking the error and apply the `mean()` method."
   ]
  },
  {
   "cell_type": "code",
   "execution_count": 28,
   "id": "6ad2e27a-8e99-4310-aa0c-1d23bdbd44c7",
   "metadata": {},
   "outputs": [
    {
     "data": {
      "text/plain": [
       "0.9584592415149208"
      ]
     },
     "execution_count": 28,
     "metadata": {},
     "output_type": "execute_result"
    }
   ],
   "source": [
    "# avg the squared errors\n",
    "(lm_fit.resid **2).mean()"
   ]
  },
  {
   "cell_type": "markdown",
   "id": "6174ec1d-5979-4d52-b294-1f0c03f6b1f3",
   "metadata": {},
   "source": [
    "The MSE has one draw back, its output is in units squared. So fro example if you are predicting the sale of a caar the MSE will be in squared dollars. So we apply the SQUARE ROOT to the MSE to produce an error metric in the same units as the output.\n",
    "\n",
    "The square root of the MSE is known as the `**RMSE**` ROOT MEAN SQUARE ERROR of our regression model."
   ]
  },
  {
   "cell_type": "code",
   "execution_count": 29,
   "id": "0441f267-6756-44b6-914d-d9f27d3bb314",
   "metadata": {},
   "outputs": [
    {
     "data": {
      "text/plain": [
       "0.9790093163575722"
      ]
     },
     "execution_count": 29,
     "metadata": {},
     "output_type": "execute_result"
    }
   ],
   "source": [
    "# Apply sqrt to the MSE\n",
    "mse = (lm_fit.resid **2).mean()\n",
    "np.sqrt(mse)"
   ]
  },
  {
   "cell_type": "raw",
   "id": "89b11c98-6308-4624-b4b4-45f0172ab67c",
   "metadata": {},
   "source": [
    "Now this metric is in the same unit as the output. So if we were predicting the sale price of a car the value about would be in the derived currency. \n",
    "\n",
    "The RMSE is essentially the representative of the sigma defined when we generate the random data. Also, it is represented as the prediction interval PI. This is 2x the RMSE showing in a plot as the distance between the predictive trend to the output. It captures and represents the fundamental error of your model. "
   ]
  },
  {
   "cell_type": "markdown",
   "id": "9b134345-2c77-426c-af05-d7c5b097ad0b",
   "metadata": {},
   "source": [
    "## Absolute Error Metric\n",
    "Another kind of error metric is based on absolute error measurement"
   ]
  },
  {
   "cell_type": "code",
   "execution_count": 30,
   "id": "0c5d770f-7fe6-4b96-bbec-cabe36cd7d74",
   "metadata": {},
   "outputs": [
    {
     "data": {
      "text/plain": [
       "0    1.417639\n",
       "1    1.882465\n",
       "2    0.320307\n",
       "3    0.787961\n",
       "4    1.127767\n",
       "5    0.505184\n",
       "6    0.051131\n",
       "7    0.756326\n",
       "8    0.497560\n",
       "dtype: float64"
      ]
     },
     "execution_count": 30,
     "metadata": {},
     "output_type": "execute_result"
    }
   ],
   "source": [
    "# calculate the absolute value of the error \n",
    "np.abs(lm_fit.resid)"
   ]
  },
  {
   "cell_type": "markdown",
   "id": "d5c75cf6-ed5a-462d-904a-6acbbf7717af",
   "metadata": {},
   "source": [
    "The smaller the error is closest to 0 the smaller is the relative output. The average of the absolute error give use the MEAN ABSOLUTE ERROR - `**MAE**`.  This is the average absolute error of the training data. "
   ]
  },
  {
   "cell_type": "code",
   "execution_count": 31,
   "id": "a95db8ee-dcbb-4801-8846-37b206455aa5",
   "metadata": {},
   "outputs": [
    {
     "data": {
      "text/plain": [
       "0.8162599885208113"
      ]
     },
     "execution_count": 31,
     "metadata": {},
     "output_type": "execute_result"
    }
   ],
   "source": [
    "# Calculate the MAE - \n",
    "(np.abs(lm_fit.resid)).mean()"
   ]
  },
  {
   "cell_type": "markdown",
   "id": "b7ff1d33-db7f-4266-a358-9b5d34466fec",
   "metadata": {},
   "source": [
    "The MAE is less sensitive to extreme output values because it is not sqaring the output error. If you have extreem output error (high values) you may want to focus on the MAE insead of MSE."
   ]
  },
  {
   "cell_type": "markdown",
   "id": "147eaf2c-f087-400e-a540-d026073d82bd",
   "metadata": {},
   "source": [
    "## Summary \n",
    "\n",
    "We have explored two types of performance metrics for regression problems.\n",
    "\n",
    "First, we examined the general linear relationship between predicted and observed values, quantified by R-squared.\n",
    "\n",
    "Second, we looked at error metrics that summarize a model's errors. These can be based on squared errors, summarized as Mean Squared Error (MSE) or Root Mean Squared Error (RMSE), or on absolute errors, summarized as Mean Absolute Error (MAE)."
   ]
  }
 ],
 "metadata": {
  "kernelspec": {
   "display_name": "Python 3 (ipykernel)",
   "language": "python",
   "name": "python3"
  },
  "language_info": {
   "codemirror_mode": {
    "name": "ipython",
    "version": 3
   },
   "file_extension": ".py",
   "mimetype": "text/x-python",
   "name": "python",
   "nbconvert_exporter": "python",
   "pygments_lexer": "ipython3",
   "version": "3.12.3"
  }
 },
 "nbformat": 4,
 "nbformat_minor": 5
}
